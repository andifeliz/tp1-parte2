{
 "cells": [
  {
   "cell_type": "code",
   "execution_count": 2,
   "id": "fb54ac85",
   "metadata": {},
   "outputs": [],
   "source": [
    "#TP 1 - parte 2\n"
   ]
  },
  {
   "cell_type": "code",
   "execution_count": 1,
   "id": "b4a0f5cf",
   "metadata": {},
   "outputs": [
    {
     "name": "stdout",
     "output_type": "stream",
     "text": [
      "✅ Todo instalado correctamente.\n"
     ]
    }
   ],
   "source": [
    "import pandas as pd\n",
    "import seaborn as sns\n",
    "import matplotlib.pyplot as plt\n",
    "import plotly.express as px\n",
    "from sklearn.datasets import load_iris\n",
    "import xgboost as xgb\n",
    "from yellowbrick.classifier import ConfusionMatrix\n",
    "\n",
    "print(\"✅ Todo instalado correctamente.\")\n"
   ]
  },
  {
   "cell_type": "code",
   "execution_count": 4,
   "id": "d176a0b4",
   "metadata": {},
   "outputs": [],
   "source": [
    "data = pd.read_csv('../data/loan_data.csv')"
   ]
  },
  {
   "cell_type": "code",
   "execution_count": null,
   "id": "5519587a",
   "metadata": {},
   "outputs": [],
   "source": [
    "#1. Datos cib kis cambios realizados en la primera parte\n",
    "data = data[data['person_age'] <= 39]\n",
    "data = data[data['person_income'] <= 168653]\n",
    "data = data[data['person_emp_exp'] <= 18]\n",
    "data = data[data['loan_amnt'] <= 23050]\n",
    "data = data[data['loan_percent_income'] <= 0.37]\n",
    "data = data[data['cb_person_cred_hist_length'] <= 15]\n",
    "data = data[(data['credit_score'] >= 503) & (data['credit_score'] <= 773)]"
   ]
  }
 ],
 "metadata": {
  "kernelspec": {
   "display_name": ".venv (3.12.0)",
   "language": "python",
   "name": "python3"
  },
  "language_info": {
   "codemirror_mode": {
    "name": "ipython",
    "version": 3
   },
   "file_extension": ".py",
   "mimetype": "text/x-python",
   "name": "python",
   "nbconvert_exporter": "python",
   "pygments_lexer": "ipython3",
   "version": "3.12.0"
  }
 },
 "nbformat": 4,
 "nbformat_minor": 5
}
