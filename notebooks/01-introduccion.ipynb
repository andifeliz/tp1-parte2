{
 "cells": [
  {
   "cell_type": "code",
   "execution_count": 1,
   "id": "fb54ac85",
   "metadata": {},
   "outputs": [],
   "source": [
    "#TP 1 - parte 2\n"
   ]
  },
  {
   "cell_type": "code",
   "execution_count": 2,
   "id": "b4a0f5cf",
   "metadata": {},
   "outputs": [
    {
     "name": "stdout",
     "output_type": "stream",
     "text": [
      "✅ Todo instalado correctamente.\n"
     ]
    }
   ],
   "source": [
    "import pandas as pd\n",
    "import seaborn as sns\n",
    "import matplotlib.pyplot as plt\n",
    "import plotly.express as px\n",
    "from sklearn.datasets import load_iris\n",
    "import xgboost as xgb\n",
    "from yellowbrick.classifier import ConfusionMatrix\n",
    "\n",
    "print(\"✅ Todo instalado correctamente.\")\n"
   ]
  }
 ],
 "metadata": {
  "kernelspec": {
   "display_name": "Python 3.12 (ai-topicos)",
   "language": "python",
   "name": "ai-topicos"
  },
  "language_info": {
   "codemirror_mode": {
    "name": "ipython",
    "version": 3
   },
   "file_extension": ".py",
   "mimetype": "text/x-python",
   "name": "python",
   "nbconvert_exporter": "python",
   "pygments_lexer": "ipython3",
   "version": "3.12.0"
  }
 },
 "nbformat": 4,
 "nbformat_minor": 5
}
